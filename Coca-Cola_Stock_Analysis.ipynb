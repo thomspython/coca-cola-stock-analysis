{
 "cells": [
  {
   "cell_type": "markdown",
   "id": "b8af6971",
   "metadata": {},
   "source": [
    "# 📈 Coca-Cola Stock Analysis\n",
    "\n",
    "Analysis of historical KO stock data for insights and strategy."
   ]
  },
  {
   "cell_type": "code",
   "execution_count": null,
   "id": "bf79aee3",
   "metadata": {},
   "outputs": [],
   "source": [
    "\n",
    "import pandas as pd\n",
    "import matplotlib.pyplot as plt\n",
    "import seaborn as sns\n",
    "\n",
    "# Load dataset\n",
    "df = pd.read_csv(\"Coca-Cola Project.csv\")\n",
    "df['date'] = pd.to_datetime(df['date'], utc=True)\n"
   ]
  },
  {
   "cell_type": "code",
   "execution_count": null,
   "id": "d5717971",
   "metadata": {},
   "outputs": [],
   "source": [
    "\n",
    "df['year'] = df['date'].dt.year\n",
    "df['month'] = df['date'].dt.month\n",
    "df['day'] = df['date'].dt.day\n",
    "df['day_of_week'] = df['date'].dt.day_name()\n",
    "df['daily_return'] = df['close'].pct_change()\n",
    "df['ma_30'] = df['close'].rolling(window=30).mean()\n",
    "df['ma_90'] = df['close'].rolling(window=90).mean()\n"
   ]
  },
  {
   "cell_type": "code",
   "execution_count": null,
   "id": "72750e41",
   "metadata": {},
   "outputs": [],
   "source": [
    "\n",
    "correlation_matrix = df.corr(numeric_only=True)\n",
    "correlation_matrix\n"
   ]
  },
  {
   "cell_type": "code",
   "execution_count": null,
   "id": "207df217",
   "metadata": {},
   "outputs": [],
   "source": [
    "\n",
    "sns.set(style=\"whitegrid\")\n",
    "plt.figure(figsize=(14, 6))\n",
    "sns.lineplot(data=df, x='date', y='close')\n",
    "plt.title('Coca-Cola Stock Closing Price Over Time')\n",
    "plt.xlabel('Date')\n",
    "plt.ylabel('Closing Price')\n",
    "plt.tight_layout()\n",
    "plt.show()\n",
    "\n",
    "plt.figure(figsize=(10, 5))\n",
    "sns.histplot(df['daily_return'].dropna(), bins=100, kde=True)\n",
    "plt.title('Distribution of Daily Returns')\n",
    "plt.xlabel('Daily Return')\n",
    "plt.ylabel('Frequency')\n",
    "plt.tight_layout()\n",
    "plt.show()\n",
    "\n",
    "plt.figure(figsize=(10, 6))\n",
    "sns.heatmap(correlation_matrix, annot=True, cmap='coolwarm', fmt=\".2f\")\n",
    "plt.title('Correlation Matrix of Stock Metrics')\n",
    "plt.tight_layout()\n",
    "plt.show()\n"
   ]
  },
  {
   "cell_type": "code",
   "execution_count": null,
   "id": "2267eb9d",
   "metadata": {},
   "outputs": [],
   "source": [
    "\n",
    "annual_summary = df.groupby('year')[['open', 'high', 'low', 'close', 'volume']].agg(['mean', 'max', 'min'])\n",
    "annual_summary.tail()\n"
   ]
  },
  {
   "cell_type": "code",
   "execution_count": null,
   "id": "2ae75fbc",
   "metadata": {},
   "outputs": [],
   "source": [
    "\n",
    "df['annual_return'] = df.groupby('year')['daily_return'].transform('mean')\n",
    "annual_returns = df.groupby('year')['daily_return'].mean().sort_values(ascending=False)\n",
    "top_gains = df.sort_values(by='daily_return', ascending=False).head(5)\n",
    "top_losses = df.sort_values(by='daily_return').head(5)\n",
    "\n",
    "annual_returns.head(), top_gains[['date', 'daily_return']], top_losses[['date', 'daily_return']]\n"
   ]
  }
 ],
 "metadata": {},
 "nbformat": 4,
 "nbformat_minor": 5
}
